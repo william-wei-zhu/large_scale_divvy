{
 "cells": [
  {
   "cell_type": "code",
   "execution_count": 2,
   "id": "f435a6dd",
   "metadata": {},
   "outputs": [
    {
     "name": "stdout",
     "output_type": "stream",
     "text": [
      "Requirement already satisfied: geopandas in ./miniconda/lib/python3.7/site-packages (0.10.2)\n",
      "Requirement already satisfied: pandas>=0.25.0 in ./miniconda/lib/python3.7/site-packages (from geopandas) (1.3.1)\n",
      "Requirement already satisfied: fiona>=1.8 in ./miniconda/lib/python3.7/site-packages (from geopandas) (1.8.20)\n",
      "Requirement already satisfied: shapely>=1.6 in ./miniconda/lib/python3.7/site-packages (from geopandas) (1.8.0)\n",
      "Requirement already satisfied: pyproj>=2.2.0 in ./miniconda/lib/python3.7/site-packages (from geopandas) (3.2.1)\n",
      "Requirement already satisfied: click>=4.0 in ./miniconda/lib/python3.7/site-packages (from fiona>=1.8->geopandas) (8.0.3)\n",
      "Requirement already satisfied: munch in ./miniconda/lib/python3.7/site-packages (from fiona>=1.8->geopandas) (2.5.0)\n",
      "Requirement already satisfied: setuptools in ./miniconda/lib/python3.7/site-packages (from fiona>=1.8->geopandas) (58.0.4)\n",
      "Requirement already satisfied: cligj>=0.5 in ./miniconda/lib/python3.7/site-packages (from fiona>=1.8->geopandas) (0.7.2)\n",
      "Requirement already satisfied: six>=1.7 in ./miniconda/lib/python3.7/site-packages (from fiona>=1.8->geopandas) (1.16.0)\n",
      "Requirement already satisfied: certifi in ./miniconda/lib/python3.7/site-packages (from fiona>=1.8->geopandas) (2021.10.8)\n",
      "Requirement already satisfied: click-plugins>=1.0 in ./miniconda/lib/python3.7/site-packages (from fiona>=1.8->geopandas) (1.1.1)\n",
      "Requirement already satisfied: attrs>=17 in ./miniconda/lib/python3.7/site-packages (from fiona>=1.8->geopandas) (21.2.0)\n",
      "Requirement already satisfied: numpy>=1.17.3 in ./miniconda/lib/python3.7/site-packages (from pandas>=0.25.0->geopandas) (1.20.3)\n",
      "Requirement already satisfied: python-dateutil>=2.7.3 in ./miniconda/lib/python3.7/site-packages (from pandas>=0.25.0->geopandas) (2.8.2)\n",
      "Requirement already satisfied: pytz>=2017.3 in ./miniconda/lib/python3.7/site-packages (from pandas>=0.25.0->geopandas) (2021.3)\n",
      "Requirement already satisfied: importlib-metadata in ./miniconda/lib/python3.7/site-packages (from click>=4.0->fiona>=1.8->geopandas) (4.8.2)\n",
      "Requirement already satisfied: typing-extensions>=3.6.4 in ./miniconda/lib/python3.7/site-packages (from importlib-metadata->click>=4.0->fiona>=1.8->geopandas) (4.0.1)\n",
      "Requirement already satisfied: zipp>=0.5 in ./miniconda/lib/python3.7/site-packages (from importlib-metadata->click>=4.0->fiona>=1.8->geopandas) (3.6.0)\n",
      "Note: you may need to restart the kernel to use updated packages.\n"
     ]
    }
   ],
   "source": [
    "pip install geopandas"
   ]
  },
  {
   "cell_type": "code",
   "execution_count": 3,
   "id": "d30eae02",
   "metadata": {},
   "outputs": [
    {
     "name": "stdout",
     "output_type": "stream",
     "text": [
      "Requirement already satisfied: rtree in ./miniconda/lib/python3.7/site-packages (0.9.7)\n",
      "Note: you may need to restart the kernel to use updated packages.\n"
     ]
    }
   ],
   "source": [
    "pip install rtree"
   ]
  },
  {
   "cell_type": "code",
   "execution_count": 4,
   "id": "8d3bb608",
   "metadata": {},
   "outputs": [
    {
     "name": "stdout",
     "output_type": "stream",
     "text": [
      "Requirement already satisfied: pygeos in ./miniconda/lib/python3.7/site-packages (0.12.0)\n",
      "Requirement already satisfied: numpy>=1.13 in ./miniconda/lib/python3.7/site-packages (from pygeos) (1.20.3)\n",
      "Note: you may need to restart the kernel to use updated packages.\n"
     ]
    }
   ],
   "source": [
    "pip install pygeos"
   ]
  },
  {
   "cell_type": "markdown",
   "id": "d2ce6cbb",
   "metadata": {},
   "source": [
    "## Setup Cluster"
   ]
  },
  {
   "cell_type": "code",
   "execution_count": 1,
   "id": "e68ad0cc",
   "metadata": {},
   "outputs": [
    {
     "name": "stderr",
     "output_type": "stream",
     "text": [
      "/home/hadoop/miniconda/lib/python3.7/site-packages/dask_yarn/core.py:16: FutureWarning: format_bytes is deprecated and will be removed in a future release. Please use dask.utils.format_bytes instead.\n",
      "  from distributed.utils import (\n",
      "/home/hadoop/miniconda/lib/python3.7/site-packages/dask_yarn/core.py:16: FutureWarning: parse_timedelta is deprecated and will be removed in a future release. Please use dask.utils.parse_timedelta instead.\n",
      "  from distributed.utils import (\n"
     ]
    }
   ],
   "source": [
    "from dask_yarn import YarnCluster\n",
    "from dask.distributed import Client"
   ]
  },
  {
   "cell_type": "code",
   "execution_count": 2,
   "id": "48887245",
   "metadata": {},
   "outputs": [
    {
     "name": "stderr",
     "output_type": "stream",
     "text": [
      "distributed.scheduler - INFO - Clear task state\n",
      "distributed.scheduler - INFO -   Scheduler at:  tcp://172.31.95.94:41815\n",
      "distributed.scheduler - INFO -   dashboard at:                    :45149\n",
      "distributed.scheduler - INFO - Receive client connection: Client-e5ee9112-562c-11ec-aba2-12ead9e9f74f\n",
      "distributed.core - INFO - Starting established connection\n",
      "distributed.scheduler - INFO - Register worker <WorkerState 'tcp://172.31.80.204:45347', name: dask.worker_3, status: undefined, memory: 0, processing: 0>\n",
      "distributed.scheduler - INFO - Starting worker compute stream, tcp://172.31.80.204:45347\n",
      "distributed.core - INFO - Starting established connection\n",
      "distributed.scheduler - INFO - Register worker <WorkerState 'tcp://172.31.95.236:37719', name: dask.worker_1, status: undefined, memory: 0, processing: 0>\n",
      "distributed.scheduler - INFO - Starting worker compute stream, tcp://172.31.95.236:37719\n",
      "distributed.core - INFO - Starting established connection\n",
      "distributed.scheduler - INFO - Register worker <WorkerState 'tcp://172.31.90.114:44985', name: dask.worker_0, status: undefined, memory: 0, processing: 0>\n",
      "distributed.scheduler - INFO - Starting worker compute stream, tcp://172.31.90.114:44985\n",
      "distributed.core - INFO - Starting established connection\n",
      "distributed.scheduler - INFO - Register worker <WorkerState 'tcp://172.31.80.235:36057', name: dask.worker_2, status: undefined, memory: 0, processing: 0>\n",
      "distributed.scheduler - INFO - Starting worker compute stream, tcp://172.31.80.235:36057\n",
      "distributed.core - INFO - Starting established connection\n"
     ]
    }
   ],
   "source": [
    "# Create a cluster where each worker has 4 vCPU core and 8 GiB of memory:\n",
    "# workers ~ processes, worker_vcores ~ threads\n",
    "cluster = YarnCluster(environment=\"/home/hadoop/environment.tar.gz\",\n",
    "                      worker_vcores = 4,\n",
    "                      worker_memory = \"8GiB\"\n",
    "                      )\n",
    "\n",
    "# Scale cluster out to 4 such workers:\n",
    "cluster.scale(4)\n",
    "\n",
    "# Connect to the cluster (before proceeding, you should wait for workers to be registered by the dask scheduler, as below):\n",
    "client = Client(cluster)"
   ]
  },
  {
   "cell_type": "code",
   "execution_count": 3,
   "id": "673c52c4",
   "metadata": {},
   "outputs": [
    {
     "data": {
      "text/html": [
       "<div>\n",
       "    <div style=\"width: 24px; height: 24px; background-color: #e1e1e1; border: 3px solid #9D9D9D; border-radius: 5px; position: absolute;\"> </div>\n",
       "    <div style=\"margin-left: 48px;\">\n",
       "        <h3 style=\"margin-bottom: 0px;\">Client</h3>\n",
       "        <p style=\"color: #9D9D9D; margin-bottom: 0px;\">Client-e5ee9112-562c-11ec-aba2-12ead9e9f74f</p>\n",
       "        <table style=\"width: 100%; text-align: left;\">\n",
       "\n",
       "        <tr>\n",
       "        \n",
       "            <td style=\"text-align: left;\"><strong>Connection method:</strong> Cluster object</td>\n",
       "            <td style=\"text-align: left;\"><strong>Cluster type:</strong> dask_yarn.YarnCluster</td>\n",
       "        \n",
       "        </tr>\n",
       "\n",
       "        \n",
       "            <tr>\n",
       "                <td style=\"text-align: left;\">\n",
       "                    <strong>Dashboard: </strong> <a href=\"/proxy/45149/status\" target=\"_blank\">/proxy/45149/status</a>\n",
       "                </td>\n",
       "                <td style=\"text-align: left;\"></td>\n",
       "            </tr>\n",
       "        \n",
       "\n",
       "        </table>\n",
       "\n",
       "        \n",
       "            <details>\n",
       "            <summary style=\"margin-bottom: 20px;\"><h3 style=\"display: inline;\">Cluster Info</h3></summary>\n",
       "            <div style='background-color: #f2f2f2; display: inline-block; padding: 10px; border: 1px solid #999999;'>\n",
       "  <h3>YarnCluster</h3>\n",
       "  <ul>\n",
       "    <li><b>Application ID: </b>application_1638743450451_0005\n",
       "    <li><b>Dashboard: </b><a href='/proxy/45149/status' target='_blank'>/proxy/45149/status</a>\n",
       "  </ul>\n",
       "</div>\n",
       "\n",
       "            </details>\n",
       "        \n",
       "\n",
       "    </div>\n",
       "</div>"
      ],
      "text/plain": [
       "<Client: 'tcp://172.31.95.94:41815' processes=4 threads=16, memory=32.00 GiB>"
      ]
     },
     "execution_count": 3,
     "metadata": {},
     "output_type": "execute_result"
    }
   ],
   "source": [
    "client"
   ]
  },
  {
   "cell_type": "code",
   "execution_count": null,
   "id": "cc49479f",
   "metadata": {},
   "outputs": [],
   "source": [
    "cluster.shutdown()"
   ]
  },
  {
   "cell_type": "markdown",
   "id": "5bbc01d9",
   "metadata": {},
   "source": [
    "# Clean Divvy Data"
   ]
  },
  {
   "cell_type": "code",
   "execution_count": 5,
   "id": "0e21f09c",
   "metadata": {},
   "outputs": [],
   "source": [
    "import dask.dataframe as dd\n",
    "import matplotlib.pyplot as plt\n",
    "import dask\n",
    "import boto3\n",
    "import pandas as pd\n",
    "import numpy as np\n",
    "\n",
    "import geopandas as gpd\n",
    "import rtree\n",
    "import pygeos\n",
    "import dask_geopandas as dgpd\n",
    "\n",
    "import datetime\n",
    "import time"
   ]
  },
  {
   "cell_type": "markdown",
   "id": "b265b522",
   "metadata": {},
   "source": [
    "## Geopandas Shape Files"
   ]
  },
  {
   "cell_type": "code",
   "execution_count": 6,
   "id": "f611f6e5",
   "metadata": {},
   "outputs": [],
   "source": [
    "# read shape file from s3 bucket\n",
    "zip_shp = gpd.read_file(\"s3://macs30123-dxu/divvy/Shapefile/Zipcodes.shp\")\n",
    "# drop unnecessary columns\n",
    "zip_shp.drop(['objectid', 'shape_area', 'shape_len'], axis=1, inplace=True)"
   ]
  },
  {
   "cell_type": "code",
   "execution_count": 7,
   "id": "8b9f29c1",
   "metadata": {},
   "outputs": [],
   "source": [
    "def assign_zip(df, lon_var, lat_var, zip_shp):\n",
    "    '''\n",
    "    This function returns a geopanda dataframe with zip code corresponding to selected lat,lon data\n",
    "    '''\n",
    "\n",
    "    # local Geodataframe\n",
    "    local_geometry = gpd.points_from_xy(df[lon_var], df[lat_var])\n",
    "    local_gdf = gpd.GeoDataFrame(data=df,\n",
    "                                 geometry = local_geometry,\n",
    "                                 crs = zip_shp.crs)\n",
    "    gdf = gpd.sjoin(local_gdf, zip_shp, how=\"left\", predicate='intersects')\n",
    "\n",
    "    return gdf"
   ]
  },
  {
   "cell_type": "markdown",
   "id": "54380e19",
   "metadata": {},
   "source": [
    "## Clean Data"
   ]
  },
  {
   "cell_type": "code",
   "execution_count": 8,
   "id": "a715e68d",
   "metadata": {},
   "outputs": [
    {
     "name": "stderr",
     "output_type": "stream",
     "text": [
      "/home/hadoop/miniconda/lib/python3.7/site-packages/dask/dataframe/io/csv.py:530: UserWarning: Warning zip compression does not support breaking apart files\n",
      "Please ensure that each individual file can fit in memory and\n",
      "use the keyword ``blocksize=None to remove this message``\n",
      "Setting ``blocksize=None``\n",
      "  \"Setting ``blocksize=None``\" % compression\n"
     ]
    }
   ],
   "source": [
    "# read data from s3 bucket\n",
    "# this data includes all data from April 2020, to October 2021\n",
    "data = dd.read_csv(\"s3://macs30123-dxu/divvy/data/*-divvy-tripdata.zip\", \n",
    "                   dtype={'start_station_id': 'object',\n",
    "                          'end_station_id': 'object'})"
   ]
  },
  {
   "cell_type": "code",
   "execution_count": 9,
   "id": "869ed05a",
   "metadata": {},
   "outputs": [
    {
     "name": "stdout",
     "output_type": "stream",
     "text": [
      "8102341\n"
     ]
    }
   ],
   "source": [
    "# check number of rows in raw data\n",
    "print(len(data.index))"
   ]
  },
  {
   "cell_type": "code",
   "execution_count": 10,
   "id": "af8733b7",
   "metadata": {},
   "outputs": [
    {
     "name": "stdout",
     "output_type": "stream",
     "text": [
      "time_elapsed (engineer time var):  87.41385221481323\n"
     ]
    }
   ],
   "source": [
    "t0 = time.time()\n",
    "\n",
    "# select only electric bike\n",
    "data = data[data['rideable_type'] == 'electric_bike']\n",
    "\n",
    "# select only trips with start/end coordinates\n",
    "data = data.dropna(subset=['start_lat', 'start_lng', 'end_lat', 'end_lng'], \n",
    "                   how='any')\n",
    "\n",
    "# create relevant time variables based on start time\n",
    "data['year'] = data['started_at'].apply(lambda x: datetime.datetime.strptime(x, '%Y-%m-%d %H:%M:%S').year,\n",
    "                                        meta=('year', int))\n",
    "data['month'] = data['started_at'].apply(lambda x: datetime.datetime.strptime(x, '%Y-%m-%d %H:%M:%S').month,\n",
    "                                         meta=('month', int))\n",
    "data['weekday'] = data['started_at'].apply(lambda x: datetime.datetime.strptime(x, '%Y-%m-%d %H:%M:%S').weekday(),\n",
    "                                           meta=('weekday', int))\n",
    "data['hour'] = data['started_at'].apply(lambda x: datetime.datetime.strptime(x, '%Y-%m-%d %H:%M:%S').hour,\n",
    "                                        meta=('hour', int))\n",
    "\n",
    "data_df = data.compute()\n",
    "\n",
    "print(\"time_elapsed (engineer time var): \", time.time()-t0)"
   ]
  },
  {
   "cell_type": "markdown",
   "id": "23d29825",
   "metadata": {},
   "source": [
    "Due to the difficulty in working with Geopandas and Dask, we converted dataframe back into pandas before using geopandas package on it."
   ]
  },
  {
   "cell_type": "code",
   "execution_count": 15,
   "id": "7c4b3c66",
   "metadata": {},
   "outputs": [
    {
     "name": "stdout",
     "output_type": "stream",
     "text": [
      "time_elapsed (geopandas):  53.747613191604614\n"
     ]
    }
   ],
   "source": [
    "t1 = time.time()\n",
    "\n",
    "# add zip code to starting location\n",
    "data_start_zip = assign_zip(data_df, 'start_lng', 'start_lat', zip_shp)\n",
    "data_start_zip.drop(['index_right', 'geometry'], axis=1, inplace=True)\n",
    "data_start_zip.rename(columns={\"zip\": \"start_zip\"}, inplace=True)\n",
    "\n",
    "# add zip code to ending location\n",
    "data_zip = assign_zip(data_start_zip, 'end_lng', 'end_lat', zip_shp)\n",
    "data_zip.drop(['index_right', 'geometry'], axis=1, inplace=True)\n",
    "data_zip.rename(columns={\"zip\": \"end_zip\"}, inplace=True)\n",
    "data_zip.reset_index(inplace = True)\n",
    "\n",
    "print(\"time_elapsed (geopandas): \", time.time()-t1)"
   ]
  },
  {
   "cell_type": "code",
   "execution_count": 16,
   "id": "09ef7a55",
   "metadata": {},
   "outputs": [
    {
     "name": "stdout",
     "output_type": "stream",
     "text": [
      "2196135\n"
     ]
    }
   ],
   "source": [
    "# check number of rows in final data\n",
    "print(len(data_zip.index))"
   ]
  },
  {
   "cell_type": "code",
   "execution_count": 17,
   "id": "b0853b61",
   "metadata": {},
   "outputs": [
    {
     "data": {
      "text/html": [
       "<div>\n",
       "<style scoped>\n",
       "    .dataframe tbody tr th:only-of-type {\n",
       "        vertical-align: middle;\n",
       "    }\n",
       "\n",
       "    .dataframe tbody tr th {\n",
       "        vertical-align: top;\n",
       "    }\n",
       "\n",
       "    .dataframe thead th {\n",
       "        text-align: right;\n",
       "    }\n",
       "</style>\n",
       "<table border=\"1\" class=\"dataframe\">\n",
       "  <thead>\n",
       "    <tr style=\"text-align: right;\">\n",
       "      <th></th>\n",
       "      <th>index</th>\n",
       "      <th>ride_id</th>\n",
       "      <th>rideable_type</th>\n",
       "      <th>started_at</th>\n",
       "      <th>ended_at</th>\n",
       "      <th>start_station_name</th>\n",
       "      <th>start_station_id</th>\n",
       "      <th>end_station_name</th>\n",
       "      <th>end_station_id</th>\n",
       "      <th>start_lat</th>\n",
       "      <th>start_lng</th>\n",
       "      <th>end_lat</th>\n",
       "      <th>end_lng</th>\n",
       "      <th>member_casual</th>\n",
       "      <th>year</th>\n",
       "      <th>month</th>\n",
       "      <th>weekday</th>\n",
       "      <th>hour</th>\n",
       "      <th>start_zip</th>\n",
       "      <th>end_zip</th>\n",
       "    </tr>\n",
       "  </thead>\n",
       "  <tbody>\n",
       "    <tr>\n",
       "      <th>0</th>\n",
       "      <td>1677</td>\n",
       "      <td>FCC5AF1EE6C90556</td>\n",
       "      <td>electric_bike</td>\n",
       "      <td>2020-07-31 09:02:32</td>\n",
       "      <td>2020-07-31 09:08:02</td>\n",
       "      <td>Southport Ave &amp; Waveland Ave</td>\n",
       "      <td>227</td>\n",
       "      <td>Broadway &amp; Sheridan Rd</td>\n",
       "      <td>256</td>\n",
       "      <td>41.948101</td>\n",
       "      <td>-87.664004</td>\n",
       "      <td>41.952773</td>\n",
       "      <td>-87.650284</td>\n",
       "      <td>member</td>\n",
       "      <td>2020</td>\n",
       "      <td>7</td>\n",
       "      <td>4</td>\n",
       "      <td>9</td>\n",
       "      <td>60613</td>\n",
       "      <td>60613</td>\n",
       "    </tr>\n",
       "    <tr>\n",
       "      <th>1</th>\n",
       "      <td>1678</td>\n",
       "      <td>D250FDFE9547D37D</td>\n",
       "      <td>electric_bike</td>\n",
       "      <td>2020-07-31 10:33:04</td>\n",
       "      <td>2020-07-31 10:36:40</td>\n",
       "      <td>Broadway &amp; Sheridan Rd</td>\n",
       "      <td>256</td>\n",
       "      <td>Halsted St &amp; Roscoe St</td>\n",
       "      <td>299</td>\n",
       "      <td>41.952835</td>\n",
       "      <td>-87.650050</td>\n",
       "      <td>41.943737</td>\n",
       "      <td>-87.648974</td>\n",
       "      <td>member</td>\n",
       "      <td>2020</td>\n",
       "      <td>7</td>\n",
       "      <td>4</td>\n",
       "      <td>10</td>\n",
       "      <td>60613</td>\n",
       "      <td>60657</td>\n",
       "    </tr>\n",
       "    <tr>\n",
       "      <th>2</th>\n",
       "      <td>1679</td>\n",
       "      <td>518886FA68C576E7</td>\n",
       "      <td>electric_bike</td>\n",
       "      <td>2020-07-31 08:24:40</td>\n",
       "      <td>2020-07-31 08:31:08</td>\n",
       "      <td>Broadway &amp; Sheridan Rd</td>\n",
       "      <td>256</td>\n",
       "      <td>Southport Ave &amp; Waveland Ave</td>\n",
       "      <td>227</td>\n",
       "      <td>41.952801</td>\n",
       "      <td>-87.650040</td>\n",
       "      <td>41.948261</td>\n",
       "      <td>-87.664000</td>\n",
       "      <td>member</td>\n",
       "      <td>2020</td>\n",
       "      <td>7</td>\n",
       "      <td>4</td>\n",
       "      <td>8</td>\n",
       "      <td>60613</td>\n",
       "      <td>60613</td>\n",
       "    </tr>\n",
       "    <tr>\n",
       "      <th>3</th>\n",
       "      <td>2309</td>\n",
       "      <td>C567E225898542DD</td>\n",
       "      <td>electric_bike</td>\n",
       "      <td>2020-07-31 13:14:47</td>\n",
       "      <td>2020-07-31 13:21:17</td>\n",
       "      <td>Calumet Ave &amp; 18th St</td>\n",
       "      <td>338</td>\n",
       "      <td>Wabash Ave &amp; 16th St</td>\n",
       "      <td>72</td>\n",
       "      <td>41.857687</td>\n",
       "      <td>-87.619427</td>\n",
       "      <td>41.860265</td>\n",
       "      <td>-87.625791</td>\n",
       "      <td>member</td>\n",
       "      <td>2020</td>\n",
       "      <td>7</td>\n",
       "      <td>4</td>\n",
       "      <td>13</td>\n",
       "      <td>60616</td>\n",
       "      <td>60605</td>\n",
       "    </tr>\n",
       "    <tr>\n",
       "      <th>4</th>\n",
       "      <td>2310</td>\n",
       "      <td>35B9C123ADCD865E</td>\n",
       "      <td>electric_bike</td>\n",
       "      <td>2020-07-31 07:05:09</td>\n",
       "      <td>2020-07-31 07:13:30</td>\n",
       "      <td>Ashland Ave &amp; Chicago Ave</td>\n",
       "      <td>350</td>\n",
       "      <td>Ashland Ave &amp; Augusta Blvd</td>\n",
       "      <td>30</td>\n",
       "      <td>41.895914</td>\n",
       "      <td>-87.667840</td>\n",
       "      <td>41.899580</td>\n",
       "      <td>-87.668511</td>\n",
       "      <td>member</td>\n",
       "      <td>2020</td>\n",
       "      <td>7</td>\n",
       "      <td>4</td>\n",
       "      <td>7</td>\n",
       "      <td>60622</td>\n",
       "      <td>60622</td>\n",
       "    </tr>\n",
       "  </tbody>\n",
       "</table>\n",
       "</div>"
      ],
      "text/plain": [
       "   index           ride_id  rideable_type           started_at  \\\n",
       "0   1677  FCC5AF1EE6C90556  electric_bike  2020-07-31 09:02:32   \n",
       "1   1678  D250FDFE9547D37D  electric_bike  2020-07-31 10:33:04   \n",
       "2   1679  518886FA68C576E7  electric_bike  2020-07-31 08:24:40   \n",
       "3   2309  C567E225898542DD  electric_bike  2020-07-31 13:14:47   \n",
       "4   2310  35B9C123ADCD865E  electric_bike  2020-07-31 07:05:09   \n",
       "\n",
       "              ended_at            start_station_name start_station_id  \\\n",
       "0  2020-07-31 09:08:02  Southport Ave & Waveland Ave              227   \n",
       "1  2020-07-31 10:36:40        Broadway & Sheridan Rd              256   \n",
       "2  2020-07-31 08:31:08        Broadway & Sheridan Rd              256   \n",
       "3  2020-07-31 13:21:17         Calumet Ave & 18th St              338   \n",
       "4  2020-07-31 07:13:30     Ashland Ave & Chicago Ave              350   \n",
       "\n",
       "               end_station_name end_station_id  start_lat  start_lng  \\\n",
       "0        Broadway & Sheridan Rd            256  41.948101 -87.664004   \n",
       "1        Halsted St & Roscoe St            299  41.952835 -87.650050   \n",
       "2  Southport Ave & Waveland Ave            227  41.952801 -87.650040   \n",
       "3          Wabash Ave & 16th St             72  41.857687 -87.619427   \n",
       "4    Ashland Ave & Augusta Blvd             30  41.895914 -87.667840   \n",
       "\n",
       "     end_lat    end_lng member_casual  year  month  weekday  hour start_zip  \\\n",
       "0  41.952773 -87.650284        member  2020      7        4     9     60613   \n",
       "1  41.943737 -87.648974        member  2020      7        4    10     60613   \n",
       "2  41.948261 -87.664000        member  2020      7        4     8     60613   \n",
       "3  41.860265 -87.625791        member  2020      7        4    13     60616   \n",
       "4  41.899580 -87.668511        member  2020      7        4     7     60622   \n",
       "\n",
       "  end_zip  \n",
       "0   60613  \n",
       "1   60657  \n",
       "2   60613  \n",
       "3   60605  \n",
       "4   60622  "
      ]
     },
     "execution_count": 17,
     "metadata": {},
     "output_type": "execute_result"
    }
   ],
   "source": [
    "# take a glimpse at the data\n",
    "data_zip.head()"
   ]
  },
  {
   "cell_type": "markdown",
   "id": "4719a635",
   "metadata": {},
   "source": [
    "## Export Data as Parquet to s3"
   ]
  },
  {
   "cell_type": "code",
   "execution_count": 23,
   "id": "2cfafa62",
   "metadata": {},
   "outputs": [
    {
     "name": "stderr",
     "output_type": "stream",
     "text": [
      "/home/hadoop/miniconda/lib/python3.7/site-packages/ipykernel_launcher.py:3: UserWarning: this is an initial implementation of Parquet/Feather file support and associated metadata.  This is tracking version 0.1.0 of the metadata specification at https://github.com/geopandas/geo-arrow-spec\n",
      "\n",
      "This metadata specification does not yet make stability promises.  We do not yet recommend using this in a production setting unless you are able to rewrite your Parquet/Feather files.\n",
      "\n",
      "To further ignore this warning, you can do: \n",
      "import warnings; warnings.filterwarnings('ignore', message='.*initial implementation of Parquet.*')\n",
      "  This is separate from the ipykernel package so we can avoid doing imports until\n"
     ]
    }
   ],
   "source": [
    "# export panda dataframe as parquet\n",
    "parquet_name = 'divvy_electric.parquet'\n",
    "divvy_par = data_zip.to_parquet(parquet_name)"
   ]
  },
  {
   "cell_type": "code",
   "execution_count": 20,
   "id": "33bb620a",
   "metadata": {},
   "outputs": [],
   "source": [
    "s3 = boto3.client('s3')\n",
    "s3_resource = boto3.resource('s3')"
   ]
  },
  {
   "cell_type": "code",
   "execution_count": 21,
   "id": "3b033aa5",
   "metadata": {},
   "outputs": [
    {
     "name": "stdout",
     "output_type": "stream",
     "text": [
      "[{'Name': 'aws-emr-resources-355474598182-us-east-1', 'CreationDate': datetime.datetime(2021, 11, 25, 21, 14, 26, tzinfo=tzlocal())}, {'Name': 'aws-logs-355474598182-us-east-1', 'CreationDate': datetime.datetime(2021, 11, 25, 21, 14, 26, tzinfo=tzlocal())}, {'Name': 'macs30123-dxu', 'CreationDate': datetime.datetime(2021, 11, 3, 3, 5, 2, tzinfo=tzlocal())}]\n"
     ]
    }
   ],
   "source": [
    "# check existing buckets\n",
    "bucket_response = s3.list_buckets()\n",
    "buckets = bucket_response['Buckets']\n",
    "print(buckets)\n",
    "\n",
    "# if not, create bucket\n",
    "# bucket = s3.create_bucket(Bucket='macs30123-dxu')"
   ]
  },
  {
   "cell_type": "code",
   "execution_count": 25,
   "id": "470a2a10",
   "metadata": {},
   "outputs": [],
   "source": [
    "# upload to bucket\n",
    "bucket_name = 'macs30123-dxu'\n",
    "\n",
    "s3.upload_file(Filename = parquet_name, \n",
    "               Bucket = bucket_name,\n",
    "               Key = 'divvy/' + parquet_name)"
   ]
  },
  {
   "cell_type": "code",
   "execution_count": null,
   "id": "cc061991",
   "metadata": {},
   "outputs": [],
   "source": []
  }
 ],
 "metadata": {
  "kernelspec": {
   "display_name": "Python 3",
   "language": "python",
   "name": "python3"
  },
  "language_info": {
   "codemirror_mode": {
    "name": "ipython",
    "version": 3
   },
   "file_extension": ".py",
   "mimetype": "text/x-python",
   "name": "python",
   "nbconvert_exporter": "python",
   "pygments_lexer": "ipython3",
   "version": "3.7.7"
  }
 },
 "nbformat": 4,
 "nbformat_minor": 5
}
