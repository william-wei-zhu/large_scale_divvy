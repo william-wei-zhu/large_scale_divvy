{
 "cells": [
  {
   "cell_type": "markdown",
   "id": "84d0a5ee",
   "metadata": {},
   "source": [
    "## Setup Cluster"
   ]
  },
  {
   "cell_type": "code",
   "execution_count": 1,
   "id": "d32b05d7",
   "metadata": {},
   "outputs": [
    {
     "name": "stderr",
     "output_type": "stream",
     "text": [
      "/home/hadoop/miniconda/lib/python3.7/site-packages/dask_yarn/core.py:16: FutureWarning: format_bytes is deprecated and will be removed in a future release. Please use dask.utils.format_bytes instead.\n",
      "  from distributed.utils import (\n",
      "/home/hadoop/miniconda/lib/python3.7/site-packages/dask_yarn/core.py:16: FutureWarning: parse_timedelta is deprecated and will be removed in a future release. Please use dask.utils.parse_timedelta instead.\n",
      "  from distributed.utils import (\n"
     ]
    }
   ],
   "source": [
    "from dask_yarn import YarnCluster\n",
    "from dask.distributed import Client"
   ]
  },
  {
   "cell_type": "code",
   "execution_count": 2,
   "id": "fa78df87",
   "metadata": {},
   "outputs": [
    {
     "name": "stderr",
     "output_type": "stream",
     "text": [
      "distributed.scheduler - INFO - Clear task state\n",
      "distributed.scheduler - INFO -   Scheduler at: tcp://172.31.30.183:38265\n",
      "distributed.scheduler - INFO -   dashboard at:                    :36881\n",
      "distributed.scheduler - INFO - Receive client connection: Client-8537e09c-5921-11ec-ae59-0a8b222d514f\n",
      "distributed.core - INFO - Starting established connection\n",
      "distributed.scheduler - INFO - Register worker <WorkerState 'tcp://172.31.24.243:36989', name: dask.worker_1, status: undefined, memory: 0, processing: 0>\n",
      "distributed.scheduler - INFO - Starting worker compute stream, tcp://172.31.24.243:36989\n",
      "distributed.core - INFO - Starting established connection\n",
      "distributed.scheduler - INFO - Register worker <WorkerState 'tcp://172.31.20.33:45925', name: dask.worker_0, status: undefined, memory: 0, processing: 0>\n",
      "distributed.scheduler - INFO - Starting worker compute stream, tcp://172.31.20.33:45925\n",
      "distributed.core - INFO - Starting established connection\n"
     ]
    }
   ],
   "source": [
    "# Create a cluster where each worker has 4 vCPU core and 8 GiB of memory:\n",
    "# workers ~ processes, worker_vcores ~ threads\n",
    "cluster = YarnCluster(environment=\"/home/hadoop/environment.tar.gz\",\n",
    "                      worker_vcores = 4,\n",
    "                      worker_memory = \"8GiB\"\n",
    "                      )\n",
    "\n",
    "# Scale cluster out to 4 such workers:\n",
    "cluster.scale(4)\n",
    "\n",
    "# Connect to the cluster (before proceeding, you should wait for workers to be registered by the dask scheduler, as below):\n",
    "client = Client(cluster)"
   ]
  },
  {
   "cell_type": "code",
   "execution_count": 3,
   "id": "43a431cb",
   "metadata": {},
   "outputs": [
    {
     "data": {
      "text/html": [
       "<div>\n",
       "    <div style=\"width: 24px; height: 24px; background-color: #e1e1e1; border: 3px solid #9D9D9D; border-radius: 5px; position: absolute;\"> </div>\n",
       "    <div style=\"margin-left: 48px;\">\n",
       "        <h3 style=\"margin-bottom: 0px;\">Client</h3>\n",
       "        <p style=\"color: #9D9D9D; margin-bottom: 0px;\">Client-8537e09c-5921-11ec-ae59-0a8b222d514f</p>\n",
       "        <table style=\"width: 100%; text-align: left;\">\n",
       "\n",
       "        <tr>\n",
       "        \n",
       "            <td style=\"text-align: left;\"><strong>Connection method:</strong> Cluster object</td>\n",
       "            <td style=\"text-align: left;\"><strong>Cluster type:</strong> dask_yarn.YarnCluster</td>\n",
       "        \n",
       "        </tr>\n",
       "\n",
       "        \n",
       "            <tr>\n",
       "                <td style=\"text-align: left;\">\n",
       "                    <strong>Dashboard: </strong> <a href=\"/proxy/36881/status\" target=\"_blank\">/proxy/36881/status</a>\n",
       "                </td>\n",
       "                <td style=\"text-align: left;\"></td>\n",
       "            </tr>\n",
       "        \n",
       "\n",
       "        </table>\n",
       "\n",
       "        \n",
       "            <details>\n",
       "            <summary style=\"margin-bottom: 20px;\"><h3 style=\"display: inline;\">Cluster Info</h3></summary>\n",
       "            <div style='background-color: #f2f2f2; display: inline-block; padding: 10px; border: 1px solid #999999;'>\n",
       "  <h3>YarnCluster</h3>\n",
       "  <ul>\n",
       "    <li><b>Application ID: </b>application_1639070057407_0007\n",
       "    <li><b>Dashboard: </b><a href='/proxy/36881/status' target='_blank'>/proxy/36881/status</a>\n",
       "  </ul>\n",
       "</div>\n",
       "\n",
       "            </details>\n",
       "        \n",
       "\n",
       "    </div>\n",
       "</div>"
      ],
      "text/plain": [
       "<Client: 'tcp://172.31.30.183:38265' processes=2 threads=8, memory=16.00 GiB>"
      ]
     },
     "execution_count": 3,
     "metadata": {},
     "output_type": "execute_result"
    }
   ],
   "source": [
    "client"
   ]
  },
  {
   "cell_type": "code",
   "execution_count": null,
   "id": "ea28a629",
   "metadata": {},
   "outputs": [],
   "source": [
    "cluster.shutdown()"
   ]
  },
  {
   "cell_type": "markdown",
   "id": "50365156",
   "metadata": {},
   "source": [
    "# Data Exploration"
   ]
  },
  {
   "cell_type": "code",
   "execution_count": 4,
   "id": "a85f23da",
   "metadata": {},
   "outputs": [],
   "source": [
    "import dask.dataframe as dd\n",
    "import matplotlib.pyplot as plt\n",
    "import dask\n",
    "import pandas as pd\n",
    "import numpy as np\n",
    "import boto3"
   ]
  },
  {
   "cell_type": "markdown",
   "id": "e92ada38",
   "metadata": {},
   "source": [
    "## Import Data"
   ]
  },
  {
   "cell_type": "code",
   "execution_count": 5,
   "id": "7757d9ca",
   "metadata": {},
   "outputs": [],
   "source": [
    "# we tried multiple attempts to enable public access to macs30123-dxu bucket, as well as enabling cross-account access.\n",
    "# However, none of those worked, as we continued to face \"access denied\" error.\n",
    "\n",
    "# df = dd.read_parquet(\"s3://macs30123-dxu/divvy/divvy_electric.parquet\",\n",
    "#                      engine='fastparquet')\n",
    "df = dd.read_parquet(\"s3://macs30123-divvy/divvy_electric.parquet\",\n",
    "                     engine='fastparquet')\n"
   ]
  },
  {
   "cell_type": "code",
   "execution_count": 6,
   "id": "120f6f3e",
   "metadata": {},
   "outputs": [
    {
     "data": {
      "text/plain": [
       "Index(['index', 'ride_id', 'rideable_type', 'started_at', 'ended_at',\n",
       "       'start_station_name', 'start_station_id', 'end_station_name',\n",
       "       'end_station_id', 'start_lat', 'start_lng', 'end_lat', 'end_lng',\n",
       "       'member_casual', 'year', 'month', 'weekday', 'hour', 'start_zip',\n",
       "       'end_zip'],\n",
       "      dtype='object')"
      ]
     },
     "execution_count": 6,
     "metadata": {},
     "output_type": "execute_result"
    }
   ],
   "source": [
    "df.columns"
   ]
  },
  {
   "cell_type": "code",
   "execution_count": 10,
   "id": "f5922619",
   "metadata": {},
   "outputs": [],
   "source": [
    "# drop rows where start and end zip are NA\n",
    "df_nonan = df.dropna(subset=['start_zip', 'end_zip'], \n",
    "                     how='any')\n",
    "# generate a variable to denote whether trip crosses zip code\n",
    "df_zip = df_nonan.assign(cross = lambda x: x.start_zip != x.end_zip)\n",
    "df_zip = df_zip.assign(count = 1)"
   ]
  },
  {
   "cell_type": "code",
   "execution_count": 12,
   "id": "40726b88",
   "metadata": {},
   "outputs": [
    {
     "data": {
      "text/html": [
       "<div>\n",
       "<style scoped>\n",
       "    .dataframe tbody tr th:only-of-type {\n",
       "        vertical-align: middle;\n",
       "    }\n",
       "\n",
       "    .dataframe tbody tr th {\n",
       "        vertical-align: top;\n",
       "    }\n",
       "\n",
       "    .dataframe thead th {\n",
       "        text-align: right;\n",
       "    }\n",
       "</style>\n",
       "<table border=\"1\" class=\"dataframe\">\n",
       "  <thead>\n",
       "    <tr style=\"text-align: right;\">\n",
       "      <th></th>\n",
       "      <th>index</th>\n",
       "      <th>ride_id</th>\n",
       "      <th>rideable_type</th>\n",
       "      <th>started_at</th>\n",
       "      <th>ended_at</th>\n",
       "      <th>start_station_name</th>\n",
       "      <th>start_station_id</th>\n",
       "      <th>end_station_name</th>\n",
       "      <th>end_station_id</th>\n",
       "      <th>start_lat</th>\n",
       "      <th>...</th>\n",
       "      <th>end_lng</th>\n",
       "      <th>member_casual</th>\n",
       "      <th>year</th>\n",
       "      <th>month</th>\n",
       "      <th>weekday</th>\n",
       "      <th>hour</th>\n",
       "      <th>start_zip</th>\n",
       "      <th>end_zip</th>\n",
       "      <th>cross</th>\n",
       "      <th>count</th>\n",
       "    </tr>\n",
       "  </thead>\n",
       "  <tbody>\n",
       "    <tr>\n",
       "      <th>0</th>\n",
       "      <td>1677</td>\n",
       "      <td>FCC5AF1EE6C90556</td>\n",
       "      <td>electric_bike</td>\n",
       "      <td>2020-07-31 09:02:32</td>\n",
       "      <td>2020-07-31 09:08:02</td>\n",
       "      <td>Southport Ave &amp; Waveland Ave</td>\n",
       "      <td>227</td>\n",
       "      <td>Broadway &amp; Sheridan Rd</td>\n",
       "      <td>256</td>\n",
       "      <td>41.948101</td>\n",
       "      <td>...</td>\n",
       "      <td>-87.650284</td>\n",
       "      <td>member</td>\n",
       "      <td>2020</td>\n",
       "      <td>7</td>\n",
       "      <td>4</td>\n",
       "      <td>9</td>\n",
       "      <td>60613</td>\n",
       "      <td>60613</td>\n",
       "      <td>False</td>\n",
       "      <td>1</td>\n",
       "    </tr>\n",
       "    <tr>\n",
       "      <th>1</th>\n",
       "      <td>1678</td>\n",
       "      <td>D250FDFE9547D37D</td>\n",
       "      <td>electric_bike</td>\n",
       "      <td>2020-07-31 10:33:04</td>\n",
       "      <td>2020-07-31 10:36:40</td>\n",
       "      <td>Broadway &amp; Sheridan Rd</td>\n",
       "      <td>256</td>\n",
       "      <td>Halsted St &amp; Roscoe St</td>\n",
       "      <td>299</td>\n",
       "      <td>41.952835</td>\n",
       "      <td>...</td>\n",
       "      <td>-87.648974</td>\n",
       "      <td>member</td>\n",
       "      <td>2020</td>\n",
       "      <td>7</td>\n",
       "      <td>4</td>\n",
       "      <td>10</td>\n",
       "      <td>60613</td>\n",
       "      <td>60657</td>\n",
       "      <td>True</td>\n",
       "      <td>1</td>\n",
       "    </tr>\n",
       "    <tr>\n",
       "      <th>2</th>\n",
       "      <td>1679</td>\n",
       "      <td>518886FA68C576E7</td>\n",
       "      <td>electric_bike</td>\n",
       "      <td>2020-07-31 08:24:40</td>\n",
       "      <td>2020-07-31 08:31:08</td>\n",
       "      <td>Broadway &amp; Sheridan Rd</td>\n",
       "      <td>256</td>\n",
       "      <td>Southport Ave &amp; Waveland Ave</td>\n",
       "      <td>227</td>\n",
       "      <td>41.952801</td>\n",
       "      <td>...</td>\n",
       "      <td>-87.664000</td>\n",
       "      <td>member</td>\n",
       "      <td>2020</td>\n",
       "      <td>7</td>\n",
       "      <td>4</td>\n",
       "      <td>8</td>\n",
       "      <td>60613</td>\n",
       "      <td>60613</td>\n",
       "      <td>False</td>\n",
       "      <td>1</td>\n",
       "    </tr>\n",
       "    <tr>\n",
       "      <th>3</th>\n",
       "      <td>2309</td>\n",
       "      <td>C567E225898542DD</td>\n",
       "      <td>electric_bike</td>\n",
       "      <td>2020-07-31 13:14:47</td>\n",
       "      <td>2020-07-31 13:21:17</td>\n",
       "      <td>Calumet Ave &amp; 18th St</td>\n",
       "      <td>338</td>\n",
       "      <td>Wabash Ave &amp; 16th St</td>\n",
       "      <td>72</td>\n",
       "      <td>41.857687</td>\n",
       "      <td>...</td>\n",
       "      <td>-87.625791</td>\n",
       "      <td>member</td>\n",
       "      <td>2020</td>\n",
       "      <td>7</td>\n",
       "      <td>4</td>\n",
       "      <td>13</td>\n",
       "      <td>60616</td>\n",
       "      <td>60605</td>\n",
       "      <td>True</td>\n",
       "      <td>1</td>\n",
       "    </tr>\n",
       "    <tr>\n",
       "      <th>4</th>\n",
       "      <td>2310</td>\n",
       "      <td>35B9C123ADCD865E</td>\n",
       "      <td>electric_bike</td>\n",
       "      <td>2020-07-31 07:05:09</td>\n",
       "      <td>2020-07-31 07:13:30</td>\n",
       "      <td>Ashland Ave &amp; Chicago Ave</td>\n",
       "      <td>350</td>\n",
       "      <td>Ashland Ave &amp; Augusta Blvd</td>\n",
       "      <td>30</td>\n",
       "      <td>41.895914</td>\n",
       "      <td>...</td>\n",
       "      <td>-87.668511</td>\n",
       "      <td>member</td>\n",
       "      <td>2020</td>\n",
       "      <td>7</td>\n",
       "      <td>4</td>\n",
       "      <td>7</td>\n",
       "      <td>60622</td>\n",
       "      <td>60622</td>\n",
       "      <td>False</td>\n",
       "      <td>1</td>\n",
       "    </tr>\n",
       "  </tbody>\n",
       "</table>\n",
       "<p>5 rows × 22 columns</p>\n",
       "</div>"
      ],
      "text/plain": [
       "   index           ride_id  rideable_type           started_at  \\\n",
       "0   1677  FCC5AF1EE6C90556  electric_bike  2020-07-31 09:02:32   \n",
       "1   1678  D250FDFE9547D37D  electric_bike  2020-07-31 10:33:04   \n",
       "2   1679  518886FA68C576E7  electric_bike  2020-07-31 08:24:40   \n",
       "3   2309  C567E225898542DD  electric_bike  2020-07-31 13:14:47   \n",
       "4   2310  35B9C123ADCD865E  electric_bike  2020-07-31 07:05:09   \n",
       "\n",
       "              ended_at            start_station_name start_station_id  \\\n",
       "0  2020-07-31 09:08:02  Southport Ave & Waveland Ave              227   \n",
       "1  2020-07-31 10:36:40        Broadway & Sheridan Rd              256   \n",
       "2  2020-07-31 08:31:08        Broadway & Sheridan Rd              256   \n",
       "3  2020-07-31 13:21:17         Calumet Ave & 18th St              338   \n",
       "4  2020-07-31 07:13:30     Ashland Ave & Chicago Ave              350   \n",
       "\n",
       "               end_station_name end_station_id  start_lat  ...    end_lng  \\\n",
       "0        Broadway & Sheridan Rd            256  41.948101  ... -87.650284   \n",
       "1        Halsted St & Roscoe St            299  41.952835  ... -87.648974   \n",
       "2  Southport Ave & Waveland Ave            227  41.952801  ... -87.664000   \n",
       "3          Wabash Ave & 16th St             72  41.857687  ... -87.625791   \n",
       "4    Ashland Ave & Augusta Blvd             30  41.895914  ... -87.668511   \n",
       "\n",
       "   member_casual  year month  weekday  hour  start_zip  end_zip  cross count  \n",
       "0         member  2020     7        4     9      60613    60613  False     1  \n",
       "1         member  2020     7        4    10      60613    60657   True     1  \n",
       "2         member  2020     7        4     8      60613    60613  False     1  \n",
       "3         member  2020     7        4    13      60616    60605   True     1  \n",
       "4         member  2020     7        4     7      60622    60622  False     1  \n",
       "\n",
       "[5 rows x 22 columns]"
      ]
     },
     "execution_count": 12,
     "metadata": {},
     "output_type": "execute_result"
    }
   ],
   "source": [
    "df_zip.head()"
   ]
  },
  {
   "cell_type": "markdown",
   "id": "afdb3fe4",
   "metadata": {},
   "source": [
    "## Trip destination - Time\n",
    "\n",
    "In this section, I explore the distribution of cross-zip-code trips vs within-zip-code trips, along different dimensions of time."
   ]
  },
  {
   "cell_type": "code",
   "execution_count": 32,
   "id": "62c1dd2c",
   "metadata": {},
   "outputs": [
    {
     "data": {
      "image/png": "[encoded data removed]",
      "text/plain": [
       "<Figure size 432x288 with 1 Axes>"
      ]
     },
     "metadata": {
      "needs_background": "light"
     },
     "output_type": "display_data"
    }
   ],
   "source": [
    "cross_zip_trip = (df_zip[['cross', 'count']].groupby('cross')\n",
    "                                            .sum())\n",
    "cross_df = cross_zip_trip.compute()\n",
    "\n",
    "plt.close()\n",
    "cross_df.plot(kind='bar', title = 'Count of Trips: Within vs Cross')\n",
    "plt.savefig('count.png', dpi=200)\n",
    "plt.show()"
   ]
  },
  {
   "cell_type": "markdown",
   "id": "2a7a7f25",
   "metadata": {},
   "source": [
    "Aggregating all trips with known start and end zip code locations, there are about slightly more than twice of cross-zip-code trips than within-zip-code trips."
   ]
  },
  {
   "cell_type": "markdown",
   "id": "7e58f6dd",
   "metadata": {},
   "source": [
    "**Month** "
   ]
  },
  {
   "cell_type": "code",
   "execution_count": 34,
   "id": "8e666bab",
   "metadata": {},
   "outputs": [
    {
     "data": {
      "text/html": [
       "<div>\n",
       "<style scoped>\n",
       "    .dataframe tbody tr th:only-of-type {\n",
       "        vertical-align: middle;\n",
       "    }\n",
       "\n",
       "    .dataframe tbody tr th {\n",
       "        vertical-align: top;\n",
       "    }\n",
       "\n",
       "    .dataframe thead th {\n",
       "        text-align: right;\n",
       "    }\n",
       "</style>\n",
       "<table border=\"1\" class=\"dataframe\">\n",
       "  <thead>\n",
       "    <tr style=\"text-align: right;\">\n",
       "      <th>cross</th>\n",
       "      <th>False</th>\n",
       "      <th>True</th>\n",
       "    </tr>\n",
       "    <tr>\n",
       "      <th>month</th>\n",
       "      <th></th>\n",
       "      <th></th>\n",
       "    </tr>\n",
       "  </thead>\n",
       "  <tbody>\n",
       "    <tr>\n",
       "      <th>1</th>\n",
       "      <td>10437</td>\n",
       "      <td>21903</td>\n",
       "    </tr>\n",
       "    <tr>\n",
       "      <th>2</th>\n",
       "      <td>3985</td>\n",
       "      <td>9125</td>\n",
       "    </tr>\n",
       "    <tr>\n",
       "      <th>3</th>\n",
       "      <td>17200</td>\n",
       "      <td>41914</td>\n",
       "    </tr>\n",
       "    <tr>\n",
       "      <th>4</th>\n",
       "      <td>28737</td>\n",
       "      <td>66694</td>\n",
       "    </tr>\n",
       "    <tr>\n",
       "      <th>5</th>\n",
       "      <td>52252</td>\n",
       "      <td>121637</td>\n",
       "    </tr>\n",
       "    <tr>\n",
       "      <th>6</th>\n",
       "      <td>66626</td>\n",
       "      <td>166774</td>\n",
       "    </tr>\n",
       "    <tr>\n",
       "      <th>7</th>\n",
       "      <td>69467</td>\n",
       "      <td>180674</td>\n",
       "    </tr>\n",
       "    <tr>\n",
       "      <th>8</th>\n",
       "      <td>88873</td>\n",
       "      <td>221841</td>\n",
       "    </tr>\n",
       "    <tr>\n",
       "      <th>9</th>\n",
       "      <td>107383</td>\n",
       "      <td>266559</td>\n",
       "    </tr>\n",
       "    <tr>\n",
       "      <th>10</th>\n",
       "      <td>134064</td>\n",
       "      <td>299542</td>\n",
       "    </tr>\n",
       "    <tr>\n",
       "      <th>11</th>\n",
       "      <td>31819</td>\n",
       "      <td>73402</td>\n",
       "    </tr>\n",
       "    <tr>\n",
       "      <th>12</th>\n",
       "      <td>15316</td>\n",
       "      <td>31646</td>\n",
       "    </tr>\n",
       "  </tbody>\n",
       "</table>\n",
       "</div>"
      ],
      "text/plain": [
       "cross   False    True\n",
       "month                \n",
       "1       10437   21903\n",
       "2        3985    9125\n",
       "3       17200   41914\n",
       "4       28737   66694\n",
       "5       52252  121637\n",
       "6       66626  166774\n",
       "7       69467  180674\n",
       "8       88873  221841\n",
       "9      107383  266559\n",
       "10     134064  299542\n",
       "11      31819   73402\n",
       "12      15316   31646"
      ]
     },
     "execution_count": 34,
     "metadata": {},
     "output_type": "execute_result"
    }
   ],
   "source": [
    "cross_zip_by_month = (df_zip[['cross', 'count', 'month']].groupby(['cross', 'month'])\n",
    "                                                         .sum())\n",
    "cross_month_df = cross_zip_by_month.compute()\n",
    "\n",
    "cross_month_plot = cross_month_df.reset_index().pivot(index = 'month',\n",
    "                                                      columns = 'cross',\n",
    "                                                      values = 'count')\n",
    "cross_month_plot"
   ]
  },
  {
   "cell_type": "code",
   "execution_count": 35,
   "id": "5d05ce34",
   "metadata": {},
   "outputs": [
    {
     "data": {
      "image/png": "[encoded data removed]",
      "text/plain": [
       "<Figure size 432x288 with 1 Axes>"
      ]
     },
     "metadata": {
      "needs_background": "light"
     },
     "output_type": "display_data"
    }
   ],
   "source": [
    "plt.close()\n",
    "cross_month_plot.plot(kind=\"bar\", title = 'Distribution of Trips over Months')\n",
    "plt.savefig('month_dist.png', dpi=200)\n",
    "plt.show()"
   ]
  },
  {
   "cell_type": "code",
   "execution_count": 36,
   "id": "4dcf5518",
   "metadata": {},
   "outputs": [
    {
     "data": {
      "image/png": "[encoded data removed]",
      "text/plain": [
       "<Figure size 432x288 with 1 Axes>"
      ]
     },
     "metadata": {
      "needs_background": "light"
     },
     "output_type": "display_data"
    }
   ],
   "source": [
    "cross_month_plot['ratio'] = cross_month_plot[True] / (cross_month_plot[False] + cross_month_plot[True])\n",
    "plt.close()\n",
    "cross_month_plot['ratio'].plot(kind='bar', title = 'Share of Cross-Zip-Trips over Calendar Months')\n",
    "plt.savefig('month_share.png', dpi=200)\n",
    "plt.show()"
   ]
  },
  {
   "cell_type": "markdown",
   "id": "674cb92e",
   "metadata": {},
   "source": [
    "It seems that the ratio is about 0.7 across all months. The variation here is less significant."
   ]
  },
  {
   "cell_type": "markdown",
   "id": "67b0db60",
   "metadata": {},
   "source": [
    "**Weekday**"
   ]
  },
  {
   "cell_type": "code",
   "execution_count": 37,
   "id": "b6b3c976",
   "metadata": {},
   "outputs": [
    {
     "data": {
      "text/html": [
       "<div>\n",
       "<style scoped>\n",
       "    .dataframe tbody tr th:only-of-type {\n",
       "        vertical-align: middle;\n",
       "    }\n",
       "\n",
       "    .dataframe tbody tr th {\n",
       "        vertical-align: top;\n",
       "    }\n",
       "\n",
       "    .dataframe thead th {\n",
       "        text-align: right;\n",
       "    }\n",
       "</style>\n",
       "<table border=\"1\" class=\"dataframe\">\n",
       "  <thead>\n",
       "    <tr style=\"text-align: right;\">\n",
       "      <th>cross</th>\n",
       "      <th>False</th>\n",
       "      <th>True</th>\n",
       "    </tr>\n",
       "    <tr>\n",
       "      <th>weekday</th>\n",
       "      <th></th>\n",
       "      <th></th>\n",
       "    </tr>\n",
       "  </thead>\n",
       "  <tbody>\n",
       "    <tr>\n",
       "      <th>0</th>\n",
       "      <td>79649</td>\n",
       "      <td>183771</td>\n",
       "    </tr>\n",
       "    <tr>\n",
       "      <th>1</th>\n",
       "      <td>84840</td>\n",
       "      <td>203249</td>\n",
       "    </tr>\n",
       "    <tr>\n",
       "      <th>2</th>\n",
       "      <td>86268</td>\n",
       "      <td>210320</td>\n",
       "    </tr>\n",
       "    <tr>\n",
       "      <th>3</th>\n",
       "      <td>86998</td>\n",
       "      <td>211967</td>\n",
       "    </tr>\n",
       "    <tr>\n",
       "      <th>4</th>\n",
       "      <td>95325</td>\n",
       "      <td>234748</td>\n",
       "    </tr>\n",
       "    <tr>\n",
       "      <th>5</th>\n",
       "      <td>103038</td>\n",
       "      <td>250832</td>\n",
       "    </tr>\n",
       "    <tr>\n",
       "      <th>6</th>\n",
       "      <td>90041</td>\n",
       "      <td>206824</td>\n",
       "    </tr>\n",
       "  </tbody>\n",
       "</table>\n",
       "</div>"
      ],
      "text/plain": [
       "cross     False    True\n",
       "weekday                \n",
       "0         79649  183771\n",
       "1         84840  203249\n",
       "2         86268  210320\n",
       "3         86998  211967\n",
       "4         95325  234748\n",
       "5        103038  250832\n",
       "6         90041  206824"
      ]
     },
     "execution_count": 37,
     "metadata": {},
     "output_type": "execute_result"
    }
   ],
   "source": [
    "cross_zip_by_weekday = (df_zip[['cross', 'count', 'weekday']].groupby(['cross', 'weekday'])\n",
    "                                                             .sum())\n",
    "cross_weekday_df = cross_zip_by_weekday.compute()\n",
    "\n",
    "cross_weekday_plot = cross_weekday_df.reset_index().pivot(index = 'weekday',\n",
    "                                                          columns = 'cross',\n",
    "                                                          values = 'count')\n",
    "cross_weekday_plot"
   ]
  },
  {
   "cell_type": "code",
   "execution_count": 38,
   "id": "c4b4f48f",
   "metadata": {},
   "outputs": [
    {
     "data": {
      "image/png": "[encoded data removed]",
      "text/plain": [
       "<Figure size 432x288 with 1 Axes>"
      ]
     },
     "metadata": {
      "needs_background": "light"
     },
     "output_type": "display_data"
    }
   ],
   "source": [
    "cross_weekday_plot.index = ['M', 'T', 'W', 'TH', 'F', 'S', 'Su']\n",
    "\n",
    "plt.close()\n",
    "cross_weekday_plot.plot(kind=\"bar\", title = 'Distribution of Trips over Weekdays')\n",
    "plt.savefig('weekday_dist.png', dpi=200)\n",
    "plt.show()"
   ]
  },
  {
   "cell_type": "code",
   "execution_count": 39,
   "id": "9e7d4167",
   "metadata": {},
   "outputs": [
    {
     "data": {
      "image/png": "[encoded data removed]",
      "text/plain": [
       "<Figure size 432x288 with 1 Axes>"
      ]
     },
     "metadata": {
      "needs_background": "light"
     },
     "output_type": "display_data"
    }
   ],
   "source": [
    "cross_weekday_plot['ratio'] = cross_weekday_plot[True] / (cross_weekday_plot[False] + cross_weekday_plot[True])\n",
    "\n",
    "plt.close()\n",
    "cross_weekday_plot['ratio'].plot(kind='bar', title = 'Share of Cross-Zip-Trips over Weekdays')\n",
    "plt.savefig('weekday_share.png', dpi=200)\n",
    "plt.show()\n"
   ]
  },
  {
   "cell_type": "markdown",
   "id": "02dd7a83",
   "metadata": {},
   "source": [
    "Similarly to month, the ratio remains around 0.7 throughout all seven days of the week and shows only small variations."
   ]
  },
  {
   "cell_type": "markdown",
   "id": "e8a4015e",
   "metadata": {},
   "source": [
    "**Hour**"
   ]
  },
  {
   "cell_type": "code",
   "execution_count": 40,
   "id": "54a2a3d5",
   "metadata": {},
   "outputs": [
    {
     "data": {
      "text/html": [
       "<div>\n",
       "<style scoped>\n",
       "    .dataframe tbody tr th:only-of-type {\n",
       "        vertical-align: middle;\n",
       "    }\n",
       "\n",
       "    .dataframe tbody tr th {\n",
       "        vertical-align: top;\n",
       "    }\n",
       "\n",
       "    .dataframe thead th {\n",
       "        text-align: right;\n",
       "    }\n",
       "</style>\n",
       "<table border=\"1\" class=\"dataframe\">\n",
       "  <thead>\n",
       "    <tr style=\"text-align: right;\">\n",
       "      <th>cross</th>\n",
       "      <th>False</th>\n",
       "      <th>True</th>\n",
       "    </tr>\n",
       "    <tr>\n",
       "      <th>hour</th>\n",
       "      <th></th>\n",
       "      <th></th>\n",
       "    </tr>\n",
       "  </thead>\n",
       "  <tbody>\n",
       "    <tr>\n",
       "      <th>0</th>\n",
       "      <td>11613</td>\n",
       "      <td>24570</td>\n",
       "    </tr>\n",
       "    <tr>\n",
       "      <th>1</th>\n",
       "      <td>8156</td>\n",
       "      <td>16921</td>\n",
       "    </tr>\n",
       "    <tr>\n",
       "      <th>2</th>\n",
       "      <td>5250</td>\n",
       "      <td>10864</td>\n",
       "    </tr>\n",
       "    <tr>\n",
       "      <th>3</th>\n",
       "      <td>3081</td>\n",
       "      <td>6486</td>\n",
       "    </tr>\n",
       "    <tr>\n",
       "      <th>4</th>\n",
       "      <td>2401</td>\n",
       "      <td>6408</td>\n",
       "    </tr>\n",
       "    <tr>\n",
       "      <th>5</th>\n",
       "      <td>3996</td>\n",
       "      <td>13159</td>\n",
       "    </tr>\n",
       "    <tr>\n",
       "      <th>6</th>\n",
       "      <td>9192</td>\n",
       "      <td>32453</td>\n",
       "    </tr>\n",
       "    <tr>\n",
       "      <th>7</th>\n",
       "      <td>15898</td>\n",
       "      <td>56634</td>\n",
       "    </tr>\n",
       "    <tr>\n",
       "      <th>8</th>\n",
       "      <td>21166</td>\n",
       "      <td>66456</td>\n",
       "    </tr>\n",
       "    <tr>\n",
       "      <th>9</th>\n",
       "      <td>23326</td>\n",
       "      <td>57510</td>\n",
       "    </tr>\n",
       "    <tr>\n",
       "      <th>10</th>\n",
       "      <td>27495</td>\n",
       "      <td>63086</td>\n",
       "    </tr>\n",
       "    <tr>\n",
       "      <th>11</th>\n",
       "      <td>33553</td>\n",
       "      <td>77338</td>\n",
       "    </tr>\n",
       "    <tr>\n",
       "      <th>12</th>\n",
       "      <td>40930</td>\n",
       "      <td>89863</td>\n",
       "    </tr>\n",
       "    <tr>\n",
       "      <th>13</th>\n",
       "      <td>40664</td>\n",
       "      <td>93010</td>\n",
       "    </tr>\n",
       "    <tr>\n",
       "      <th>14</th>\n",
       "      <td>40808</td>\n",
       "      <td>94092</td>\n",
       "    </tr>\n",
       "    <tr>\n",
       "      <th>15</th>\n",
       "      <td>43785</td>\n",
       "      <td>106311</td>\n",
       "    </tr>\n",
       "    <tr>\n",
       "      <th>16</th>\n",
       "      <td>48626</td>\n",
       "      <td>125452</td>\n",
       "    </tr>\n",
       "    <tr>\n",
       "      <th>17</th>\n",
       "      <td>54770</td>\n",
       "      <td>144758</td>\n",
       "    </tr>\n",
       "    <tr>\n",
       "      <th>18</th>\n",
       "      <td>51929</td>\n",
       "      <td>121927</td>\n",
       "    </tr>\n",
       "    <tr>\n",
       "      <th>19</th>\n",
       "      <td>42346</td>\n",
       "      <td>90019</td>\n",
       "    </tr>\n",
       "    <tr>\n",
       "      <th>20</th>\n",
       "      <td>32993</td>\n",
       "      <td>65171</td>\n",
       "    </tr>\n",
       "    <tr>\n",
       "      <th>21</th>\n",
       "      <td>25914</td>\n",
       "      <td>54752</td>\n",
       "    </tr>\n",
       "    <tr>\n",
       "      <th>22</th>\n",
       "      <td>21874</td>\n",
       "      <td>48181</td>\n",
       "    </tr>\n",
       "    <tr>\n",
       "      <th>23</th>\n",
       "      <td>16393</td>\n",
       "      <td>36290</td>\n",
       "    </tr>\n",
       "  </tbody>\n",
       "</table>\n",
       "</div>"
      ],
      "text/plain": [
       "cross  False    True\n",
       "hour                \n",
       "0      11613   24570\n",
       "1       8156   16921\n",
       "2       5250   10864\n",
       "3       3081    6486\n",
       "4       2401    6408\n",
       "5       3996   13159\n",
       "6       9192   32453\n",
       "7      15898   56634\n",
       "8      21166   66456\n",
       "9      23326   57510\n",
       "10     27495   63086\n",
       "11     33553   77338\n",
       "12     40930   89863\n",
       "13     40664   93010\n",
       "14     40808   94092\n",
       "15     43785  106311\n",
       "16     48626  125452\n",
       "17     54770  144758\n",
       "18     51929  121927\n",
       "19     42346   90019\n",
       "20     32993   65171\n",
       "21     25914   54752\n",
       "22     21874   48181\n",
       "23     16393   36290"
      ]
     },
     "execution_count": 40,
     "metadata": {},
     "output_type": "execute_result"
    }
   ],
   "source": [
    "cross_zip_by_hour = (df_zip[['cross', 'count', 'hour']].groupby(['cross', 'hour'])\n",
    "                                                       .sum())\n",
    "cross_hour_df = cross_zip_by_hour.compute()\n",
    "\n",
    "cross_hour_plot = cross_hour_df.reset_index().pivot(index = 'hour',\n",
    "                                                    columns = 'cross',\n",
    "                                                    values = 'count')\n",
    "cross_hour_plot"
   ]
  },
  {
   "cell_type": "code",
   "execution_count": 41,
   "id": "048e8aec",
   "metadata": {},
   "outputs": [
    {
     "data": {
      "image/png": "[encoded data removed]",
      "text/plain": [
       "<Figure size 432x288 with 1 Axes>"
      ]
     },
     "metadata": {
      "needs_background": "light"
     },
     "output_type": "display_data"
    }
   ],
   "source": [
    "plt.close()\n",
    "cross_hour_plot.plot(kind=\"bar\", title = 'Distribution of Trips over Hours')\n",
    "plt.savefig('hour_dist.png', dpi=200)\n",
    "plt.show()"
   ]
  },
  {
   "cell_type": "code",
   "execution_count": 42,
   "id": "1fcfb264",
   "metadata": {},
   "outputs": [
    {
     "data": {
      "image/png": "[encoded data removed]",
      "text/plain": [
       "<Figure size 432x288 with 1 Axes>"
      ]
     },
     "metadata": {
      "needs_background": "light"
     },
     "output_type": "display_data"
    }
   ],
   "source": [
    "cross_hour_plot['ratio'] = cross_hour_plot[True] / (cross_hour_plot[False] + cross_hour_plot[True])\n",
    "\n",
    "plt.close()\n",
    "cross_hour_plot['ratio'].plot(kind='bar', title = 'Share of Cross-Zip-Trips over Hours in a day')\n",
    "plt.savefig('hour_share.png', dpi=200)\n",
    "plt.show()\n"
   ]
  },
  {
   "cell_type": "markdown",
   "id": "b2a7f50f",
   "metadata": {},
   "source": [
    "The variation along hours is more interesting. As the graph shows, people tend to make higher shares of cross-zip-code trips in the early morning. This probably makes sense since bike might be the most convenient option for travelling in the morning given that public transportation is not operating frequently at these hours. However, as the distribution graph shows, the sample size in the early morning is extremely small (relatively). If we focus on the time period where people tend to make more trips (10am to 8pm), one interesting observation is that during the time period where people travel most (4-5pm), the cross-zip-code trip share is slightly higher (a small peak) than other hours. This coincides with the rush hour, and implies that people do use bike as an important transportation method to travel at medium distance. THis could be simply taking bike to the end destination, or to the closest train/bus station, from which they will travel for longer distance in another transportation method."
   ]
  },
  {
   "cell_type": "markdown",
   "id": "5f1f6d1b",
   "metadata": {},
   "source": [
    "## Trip destination - Time\n",
    "\n",
    "In this section, I explore the distribution of cross-zip-code trips vs within-zip-code trips, along the dimension of membership (whether the rider is a subscriber of divvy bike, or a causal user)."
   ]
  },
  {
   "cell_type": "code",
   "execution_count": 43,
   "id": "846b95d9",
   "metadata": {},
   "outputs": [
    {
     "data": {
      "text/html": [
       "<div>\n",
       "<style scoped>\n",
       "    .dataframe tbody tr th:only-of-type {\n",
       "        vertical-align: middle;\n",
       "    }\n",
       "\n",
       "    .dataframe tbody tr th {\n",
       "        vertical-align: top;\n",
       "    }\n",
       "\n",
       "    .dataframe thead th {\n",
       "        text-align: right;\n",
       "    }\n",
       "</style>\n",
       "<table border=\"1\" class=\"dataframe\">\n",
       "  <thead>\n",
       "    <tr style=\"text-align: right;\">\n",
       "      <th>cross</th>\n",
       "      <th>False</th>\n",
       "      <th>True</th>\n",
       "    </tr>\n",
       "    <tr>\n",
       "      <th>member_casual</th>\n",
       "      <th></th>\n",
       "      <th></th>\n",
       "    </tr>\n",
       "  </thead>\n",
       "  <tbody>\n",
       "    <tr>\n",
       "      <th>casual</th>\n",
       "      <td>296716</td>\n",
       "      <td>712314</td>\n",
       "    </tr>\n",
       "    <tr>\n",
       "      <th>member</th>\n",
       "      <td>329443</td>\n",
       "      <td>789397</td>\n",
       "    </tr>\n",
       "  </tbody>\n",
       "</table>\n",
       "</div>"
      ],
      "text/plain": [
       "cross           False    True\n",
       "member_casual                \n",
       "casual         296716  712314\n",
       "member         329443  789397"
      ]
     },
     "execution_count": 43,
     "metadata": {},
     "output_type": "execute_result"
    }
   ],
   "source": [
    "cross_zip_by_member = (df_zip[['cross', 'count', 'member_casual']].groupby(['cross', 'member_casual'])\n",
    "                                                            .sum())\n",
    "cross_member_df = cross_zip_by_member.compute()\n",
    "\n",
    "cross_member_plot = cross_member_df.reset_index().pivot(index = 'member_casual',\n",
    "                                                        columns = 'cross',\n",
    "                                                        values = 'count')\n",
    "cross_member_plot"
   ]
  },
  {
   "cell_type": "code",
   "execution_count": 44,
   "id": "300870e7",
   "metadata": {},
   "outputs": [
    {
     "data": {
      "image/png": "[encoded data removed]",
      "text/plain": [
       "<Figure size 432x288 with 1 Axes>"
      ]
     },
     "metadata": {
      "needs_background": "light"
     },
     "output_type": "display_data"
    }
   ],
   "source": [
    "plt.close()\n",
    "cross_member_plot.plot(kind=\"bar\", title = 'Distribution of Trips over Membership Status')\n",
    "plt.savefig('member_dist.png', dpi=200)\n",
    "plt.show()"
   ]
  },
  {
   "cell_type": "code",
   "execution_count": 45,
   "id": "f9ced74c",
   "metadata": {},
   "outputs": [
    {
     "data": {
      "image/png": "[encoded data removed]",
      "text/plain": [
       "<Figure size 432x288 with 1 Axes>"
      ]
     },
     "metadata": {
      "needs_background": "light"
     },
     "output_type": "display_data"
    }
   ],
   "source": [
    "cross_member_plot['ratio'] = cross_member_plot[True] / (cross_member_plot[False] + cross_member_plot[True])\n",
    "\n",
    "plt.close()\n",
    "cross_member_plot['ratio'].plot(kind='bar', title = 'Share of Cross-Zip-Trips over Membership Status')\n",
    "plt.savefig('member_share.png', dpi=200)\n",
    "plt.show()\n"
   ]
  },
  {
   "cell_type": "markdown",
   "id": "4fff8634",
   "metadata": {},
   "source": [
    "It seems that member and causal riders have similar share in terms of cross-zip-code trips. Interestingly, they also have similar number of rides in total. This contradicts with our expectation that there would be more member rides (an observation derived from docked bikes). It might be that electric bikes are truly convenient such that even causal riders use them a lot."
   ]
  },
  {
   "cell_type": "markdown",
   "id": "28b79375",
   "metadata": {},
   "source": [
    "## Trip destination - Start Point\n",
    "\n",
    "In this section, I explore the distribution of cross-zip-code trips vs within-zip-code trips, along the dimension of where the trip starts. This is to see if trips start from certain place are more likely to travel across zip codes."
   ]
  },
  {
   "cell_type": "code",
   "execution_count": 46,
   "id": "5cf83433",
   "metadata": {},
   "outputs": [
    {
     "data": {
      "text/html": [
       "<div>\n",
       "<style scoped>\n",
       "    .dataframe tbody tr th:only-of-type {\n",
       "        vertical-align: middle;\n",
       "    }\n",
       "\n",
       "    .dataframe tbody tr th {\n",
       "        vertical-align: top;\n",
       "    }\n",
       "\n",
       "    .dataframe thead th {\n",
       "        text-align: right;\n",
       "    }\n",
       "</style>\n",
       "<table border=\"1\" class=\"dataframe\">\n",
       "  <thead>\n",
       "    <tr style=\"text-align: right;\">\n",
       "      <th>cross</th>\n",
       "      <th>False</th>\n",
       "      <th>True</th>\n",
       "    </tr>\n",
       "    <tr>\n",
       "      <th>start_station_id</th>\n",
       "      <th></th>\n",
       "      <th></th>\n",
       "    </tr>\n",
       "  </thead>\n",
       "  <tbody>\n",
       "    <tr>\n",
       "      <th>100</th>\n",
       "      <td>75.0</td>\n",
       "      <td>1039.0</td>\n",
       "    </tr>\n",
       "    <tr>\n",
       "      <th>101</th>\n",
       "      <td>84.0</td>\n",
       "      <td>108.0</td>\n",
       "    </tr>\n",
       "    <tr>\n",
       "      <th>102</th>\n",
       "      <td>26.0</td>\n",
       "      <td>69.0</td>\n",
       "    </tr>\n",
       "    <tr>\n",
       "      <th>103</th>\n",
       "      <td>10.0</td>\n",
       "      <td>87.0</td>\n",
       "    </tr>\n",
       "    <tr>\n",
       "      <th>106</th>\n",
       "      <td>175.0</td>\n",
       "      <td>788.0</td>\n",
       "    </tr>\n",
       "    <tr>\n",
       "      <th>...</th>\n",
       "      <td>...</td>\n",
       "      <td>...</td>\n",
       "    </tr>\n",
       "    <tr>\n",
       "      <th>TA1309000066</th>\n",
       "      <td>1407.0</td>\n",
       "      <td>2496.0</td>\n",
       "    </tr>\n",
       "    <tr>\n",
       "      <th>TA1309000067</th>\n",
       "      <td>153.0</td>\n",
       "      <td>189.0</td>\n",
       "    </tr>\n",
       "    <tr>\n",
       "      <th>WL-008</th>\n",
       "      <td>401.0</td>\n",
       "      <td>1888.0</td>\n",
       "    </tr>\n",
       "    <tr>\n",
       "      <th>WL-011</th>\n",
       "      <td>207.0</td>\n",
       "      <td>1942.0</td>\n",
       "    </tr>\n",
       "    <tr>\n",
       "      <th>WL-012</th>\n",
       "      <td>481.0</td>\n",
       "      <td>4425.0</td>\n",
       "    </tr>\n",
       "  </tbody>\n",
       "</table>\n",
       "<p>1283 rows × 2 columns</p>\n",
       "</div>"
      ],
      "text/plain": [
       "cross              False    True\n",
       "start_station_id                \n",
       "100                 75.0  1039.0\n",
       "101                 84.0   108.0\n",
       "102                 26.0    69.0\n",
       "103                 10.0    87.0\n",
       "106                175.0   788.0\n",
       "...                  ...     ...\n",
       "TA1309000066      1407.0  2496.0\n",
       "TA1309000067       153.0   189.0\n",
       "WL-008             401.0  1888.0\n",
       "WL-011             207.0  1942.0\n",
       "WL-012             481.0  4425.0\n",
       "\n",
       "[1283 rows x 2 columns]"
      ]
     },
     "execution_count": 46,
     "metadata": {},
     "output_type": "execute_result"
    }
   ],
   "source": [
    "cross_zip_by_station = (df_zip[['cross', 'count', 'start_station_id']].groupby(['cross', 'start_station_id'])\n",
    "                                                                      .sum())\n",
    "cross_station_df = cross_zip_by_station.compute()\n",
    "\n",
    "cross_station_plot = cross_station_df.reset_index().pivot(index = 'start_station_id',\n",
    "                                                         columns = 'cross',\n",
    "                                                         values = 'count')\n",
    "cross_station_plot"
   ]
  },
  {
   "cell_type": "code",
   "execution_count": 47,
   "id": "ba61b38d",
   "metadata": {},
   "outputs": [
    {
     "data": {
      "image/png": "[encoded data removed]",
      "text/plain": [
       "<Figure size 432x288 with 1 Axes>"
      ]
     },
     "metadata": {
      "needs_background": "light"
     },
     "output_type": "display_data"
    }
   ],
   "source": [
    "cross_station_plot['ratio'] = cross_station_plot[True] / (cross_station_plot[False] + cross_station_plot[True])\n",
    "\n",
    "plt.close()\n",
    "cross_station_plot['ratio'].plot(kind='hist', title = 'Distribution of Share of Cross-Zip-Trips over Starting Stations')\n",
    "plt.savefig('station_hist.png', dpi=200)\n",
    "plt.show()\n"
   ]
  },
  {
   "cell_type": "markdown",
   "id": "cc9c38ad",
   "metadata": {},
   "source": [
    "As expected, share of around 0.7 has the highest frequency, which is consistent with information seen in previous graphs. Interestingly, there are also considerable number of stations where the share of cross-zip-code are high (close to 1). The starting station could be an important identifier in predicting whether a biking trip crosses zip-code.\n"
   ]
  },
  {
   "cell_type": "code",
   "execution_count": 48,
   "id": "7fe9defa",
   "metadata": {},
   "outputs": [
    {
     "data": {
      "text/html": [
       "<div>\n",
       "<style scoped>\n",
       "    .dataframe tbody tr th:only-of-type {\n",
       "        vertical-align: middle;\n",
       "    }\n",
       "\n",
       "    .dataframe tbody tr th {\n",
       "        vertical-align: top;\n",
       "    }\n",
       "\n",
       "    .dataframe thead th {\n",
       "        text-align: right;\n",
       "    }\n",
       "</style>\n",
       "<table border=\"1\" class=\"dataframe\">\n",
       "  <thead>\n",
       "    <tr style=\"text-align: right;\">\n",
       "      <th>cross</th>\n",
       "      <th>False</th>\n",
       "      <th>True</th>\n",
       "    </tr>\n",
       "    <tr>\n",
       "      <th>start_zip</th>\n",
       "      <th></th>\n",
       "      <th></th>\n",
       "    </tr>\n",
       "  </thead>\n",
       "  <tbody>\n",
       "    <tr>\n",
       "      <th>60601</th>\n",
       "      <td>5406</td>\n",
       "      <td>40122</td>\n",
       "    </tr>\n",
       "    <tr>\n",
       "      <th>60602</th>\n",
       "      <td>1405</td>\n",
       "      <td>19489</td>\n",
       "    </tr>\n",
       "    <tr>\n",
       "      <th>60603</th>\n",
       "      <td>6334</td>\n",
       "      <td>34906</td>\n",
       "    </tr>\n",
       "    <tr>\n",
       "      <th>60604</th>\n",
       "      <td>709</td>\n",
       "      <td>12961</td>\n",
       "    </tr>\n",
       "    <tr>\n",
       "      <th>60605</th>\n",
       "      <td>21153</td>\n",
       "      <td>56850</td>\n",
       "    </tr>\n",
       "    <tr>\n",
       "      <th>60606</th>\n",
       "      <td>2567</td>\n",
       "      <td>31300</td>\n",
       "    </tr>\n",
       "    <tr>\n",
       "      <th>60607</th>\n",
       "      <td>20679</td>\n",
       "      <td>72983</td>\n",
       "    </tr>\n",
       "    <tr>\n",
       "      <th>60608</th>\n",
       "      <td>10847</td>\n",
       "      <td>22679</td>\n",
       "    </tr>\n",
       "    <tr>\n",
       "      <th>60609</th>\n",
       "      <td>4514</td>\n",
       "      <td>7567</td>\n",
       "    </tr>\n",
       "    <tr>\n",
       "      <th>60610</th>\n",
       "      <td>22553</td>\n",
       "      <td>96361</td>\n",
       "    </tr>\n",
       "    <tr>\n",
       "      <th>60611</th>\n",
       "      <td>30419</td>\n",
       "      <td>102520</td>\n",
       "    </tr>\n",
       "    <tr>\n",
       "      <th>60612</th>\n",
       "      <td>10584</td>\n",
       "      <td>33462</td>\n",
       "    </tr>\n",
       "    <tr>\n",
       "      <th>60613</th>\n",
       "      <td>29155</td>\n",
       "      <td>70709</td>\n",
       "    </tr>\n",
       "    <tr>\n",
       "      <th>60614</th>\n",
       "      <td>84021</td>\n",
       "      <td>150259</td>\n",
       "    </tr>\n",
       "    <tr>\n",
       "      <th>60615</th>\n",
       "      <td>23470</td>\n",
       "      <td>29158</td>\n",
       "    </tr>\n",
       "    <tr>\n",
       "      <th>60616</th>\n",
       "      <td>17307</td>\n",
       "      <td>26877</td>\n",
       "    </tr>\n",
       "    <tr>\n",
       "      <th>60617</th>\n",
       "      <td>5944</td>\n",
       "      <td>2401</td>\n",
       "    </tr>\n",
       "    <tr>\n",
       "      <th>60618</th>\n",
       "      <td>19211</td>\n",
       "      <td>44485</td>\n",
       "    </tr>\n",
       "    <tr>\n",
       "      <th>60619</th>\n",
       "      <td>4409</td>\n",
       "      <td>3837</td>\n",
       "    </tr>\n",
       "    <tr>\n",
       "      <th>60620</th>\n",
       "      <td>3752</td>\n",
       "      <td>2768</td>\n",
       "    </tr>\n",
       "    <tr>\n",
       "      <th>60621</th>\n",
       "      <td>2187</td>\n",
       "      <td>2096</td>\n",
       "    </tr>\n",
       "    <tr>\n",
       "      <th>60622</th>\n",
       "      <td>35548</td>\n",
       "      <td>86532</td>\n",
       "    </tr>\n",
       "    <tr>\n",
       "      <th>60623</th>\n",
       "      <td>3442</td>\n",
       "      <td>4317</td>\n",
       "    </tr>\n",
       "    <tr>\n",
       "      <th>60624</th>\n",
       "      <td>7099</td>\n",
       "      <td>4725</td>\n",
       "    </tr>\n",
       "    <tr>\n",
       "      <th>60625</th>\n",
       "      <td>13046</td>\n",
       "      <td>24420</td>\n",
       "    </tr>\n",
       "    <tr>\n",
       "      <th>60626</th>\n",
       "      <td>8767</td>\n",
       "      <td>9582</td>\n",
       "    </tr>\n",
       "    <tr>\n",
       "      <th>60628</th>\n",
       "      <td>7102</td>\n",
       "      <td>2580</td>\n",
       "    </tr>\n",
       "    <tr>\n",
       "      <th>60629</th>\n",
       "      <td>959</td>\n",
       "      <td>757</td>\n",
       "    </tr>\n",
       "    <tr>\n",
       "      <th>60630</th>\n",
       "      <td>793</td>\n",
       "      <td>3111</td>\n",
       "    </tr>\n",
       "    <tr>\n",
       "      <th>60632</th>\n",
       "      <td>727</td>\n",
       "      <td>1216</td>\n",
       "    </tr>\n",
       "    <tr>\n",
       "      <th>60633</th>\n",
       "      <td>356</td>\n",
       "      <td>113</td>\n",
       "    </tr>\n",
       "    <tr>\n",
       "      <th>60634</th>\n",
       "      <td>1695</td>\n",
       "      <td>1449</td>\n",
       "    </tr>\n",
       "    <tr>\n",
       "      <th>60636</th>\n",
       "      <td>1420</td>\n",
       "      <td>1351</td>\n",
       "    </tr>\n",
       "    <tr>\n",
       "      <th>60637</th>\n",
       "      <td>40940</td>\n",
       "      <td>28856</td>\n",
       "    </tr>\n",
       "    <tr>\n",
       "      <th>60638</th>\n",
       "      <td>11</td>\n",
       "      <td>17</td>\n",
       "    </tr>\n",
       "    <tr>\n",
       "      <th>60639</th>\n",
       "      <td>8275</td>\n",
       "      <td>8275</td>\n",
       "    </tr>\n",
       "    <tr>\n",
       "      <th>60640</th>\n",
       "      <td>19760</td>\n",
       "      <td>40988</td>\n",
       "    </tr>\n",
       "    <tr>\n",
       "      <th>60641</th>\n",
       "      <td>5801</td>\n",
       "      <td>9388</td>\n",
       "    </tr>\n",
       "    <tr>\n",
       "      <th>60642</th>\n",
       "      <td>9951</td>\n",
       "      <td>59141</td>\n",
       "    </tr>\n",
       "    <tr>\n",
       "      <th>60643</th>\n",
       "      <td>3649</td>\n",
       "      <td>1982</td>\n",
       "    </tr>\n",
       "    <tr>\n",
       "      <th>60644</th>\n",
       "      <td>4924</td>\n",
       "      <td>2270</td>\n",
       "    </tr>\n",
       "    <tr>\n",
       "      <th>60645</th>\n",
       "      <td>2265</td>\n",
       "      <td>4543</td>\n",
       "    </tr>\n",
       "    <tr>\n",
       "      <th>60646</th>\n",
       "      <td>3</td>\n",
       "      <td>14</td>\n",
       "    </tr>\n",
       "    <tr>\n",
       "      <th>60647</th>\n",
       "      <td>50407</td>\n",
       "      <td>74173</td>\n",
       "    </tr>\n",
       "    <tr>\n",
       "      <th>60649</th>\n",
       "      <td>5023</td>\n",
       "      <td>4299</td>\n",
       "    </tr>\n",
       "    <tr>\n",
       "      <th>60651</th>\n",
       "      <td>3776</td>\n",
       "      <td>10498</td>\n",
       "    </tr>\n",
       "    <tr>\n",
       "      <th>60652</th>\n",
       "      <td>8</td>\n",
       "      <td>12</td>\n",
       "    </tr>\n",
       "    <tr>\n",
       "      <th>60653</th>\n",
       "      <td>4866</td>\n",
       "      <td>8533</td>\n",
       "    </tr>\n",
       "    <tr>\n",
       "      <th>60654</th>\n",
       "      <td>15264</td>\n",
       "      <td>79293</td>\n",
       "    </tr>\n",
       "    <tr>\n",
       "      <th>60655</th>\n",
       "      <td>358</td>\n",
       "      <td>381</td>\n",
       "    </tr>\n",
       "    <tr>\n",
       "      <th>60657</th>\n",
       "      <td>31442</td>\n",
       "      <td>95286</td>\n",
       "    </tr>\n",
       "    <tr>\n",
       "      <th>60659</th>\n",
       "      <td>1339</td>\n",
       "      <td>3773</td>\n",
       "    </tr>\n",
       "    <tr>\n",
       "      <th>60660</th>\n",
       "      <td>3836</td>\n",
       "      <td>15067</td>\n",
       "    </tr>\n",
       "    <tr>\n",
       "      <th>60661</th>\n",
       "      <td>5737</td>\n",
       "      <td>49690</td>\n",
       "    </tr>\n",
       "    <tr>\n",
       "      <th>60707</th>\n",
       "      <td>844</td>\n",
       "      <td>1198</td>\n",
       "    </tr>\n",
       "    <tr>\n",
       "      <th>60827</th>\n",
       "      <td>100</td>\n",
       "      <td>91</td>\n",
       "    </tr>\n",
       "  </tbody>\n",
       "</table>\n",
       "</div>"
      ],
      "text/plain": [
       "cross      False    True\n",
       "start_zip               \n",
       "60601       5406   40122\n",
       "60602       1405   19489\n",
       "60603       6334   34906\n",
       "60604        709   12961\n",
       "60605      21153   56850\n",
       "60606       2567   31300\n",
       "60607      20679   72983\n",
       "60608      10847   22679\n",
       "60609       4514    7567\n",
       "60610      22553   96361\n",
       "60611      30419  102520\n",
       "60612      10584   33462\n",
       "60613      29155   70709\n",
       "60614      84021  150259\n",
       "60615      23470   29158\n",
       "60616      17307   26877\n",
       "60617       5944    2401\n",
       "60618      19211   44485\n",
       "60619       4409    3837\n",
       "60620       3752    2768\n",
       "60621       2187    2096\n",
       "60622      35548   86532\n",
       "60623       3442    4317\n",
       "60624       7099    4725\n",
       "60625      13046   24420\n",
       "60626       8767    9582\n",
       "60628       7102    2580\n",
       "60629        959     757\n",
       "60630        793    3111\n",
       "60632        727    1216\n",
       "60633        356     113\n",
       "60634       1695    1449\n",
       "60636       1420    1351\n",
       "60637      40940   28856\n",
       "60638         11      17\n",
       "60639       8275    8275\n",
       "60640      19760   40988\n",
       "60641       5801    9388\n",
       "60642       9951   59141\n",
       "60643       3649    1982\n",
       "60644       4924    2270\n",
       "60645       2265    4543\n",
       "60646          3      14\n",
       "60647      50407   74173\n",
       "60649       5023    4299\n",
       "60651       3776   10498\n",
       "60652          8      12\n",
       "60653       4866    8533\n",
       "60654      15264   79293\n",
       "60655        358     381\n",
       "60657      31442   95286\n",
       "60659       1339    3773\n",
       "60660       3836   15067\n",
       "60661       5737   49690\n",
       "60707        844    1198\n",
       "60827        100      91"
      ]
     },
     "execution_count": 48,
     "metadata": {},
     "output_type": "execute_result"
    }
   ],
   "source": [
    "cross_zip_by_szip = (df_zip[['cross', 'count', 'start_zip']].groupby(['cross', 'start_zip'])\n",
    "                                                            .sum())\n",
    "cross_szip_df = cross_zip_by_szip.compute()\n",
    "\n",
    "cross_szip_plot = cross_szip_df.reset_index().pivot(index = 'start_zip',\n",
    "                                                    columns = 'cross',\n",
    "                                                    values = 'count')\n",
    "cross_szip_plot"
   ]
  },
  {
   "cell_type": "code",
   "execution_count": 49,
   "id": "4e9cfed3",
   "metadata": {},
   "outputs": [
    {
     "data": {
      "image/png": "[encoded data removed]",
      "text/plain": [
       "<Figure size 432x288 with 1 Axes>"
      ]
     },
     "metadata": {
      "needs_background": "light"
     },
     "output_type": "display_data"
    }
   ],
   "source": [
    "cross_szip_plot['ratio'] = cross_szip_plot[True] / (cross_szip_plot[False] + cross_szip_plot[True])\n",
    "\n",
    "plt.close()\n",
    "cross_szip_plot['ratio'].sort_values(ascending=False).plot(kind='bar', title = 'Distribution of Share of Cross-Zip-Trips over Starting Zip Code')\n",
    "plt.savefig('zip_dist.png', dpi=200)\n",
    "plt.show()"
   ]
  },
  {
   "cell_type": "code",
   "execution_count": 50,
   "id": "d317520b",
   "metadata": {},
   "outputs": [
    {
     "data": {
      "image/png": "[encoded data removed]",
      "text/plain": [
       "<Figure size 432x288 with 1 Axes>"
      ]
     },
     "metadata": {
      "needs_background": "light"
     },
     "output_type": "display_data"
    }
   ],
   "source": [
    "plt.close()\n",
    "cross_szip_plot['ratio'].plot(kind='hist', title = 'Distribution of Share of Cross-Zip-Trips over Starting Zip Code')\n",
    "plt.savefig('zip_hist.png', dpi=200)\n",
    "plt.show()\n"
   ]
  },
  {
   "cell_type": "markdown",
   "id": "5e4b74fd",
   "metadata": {},
   "source": [
    "The distribution by starting zip code is also very intersting. The variation is signficant across starting zip code. There are indeed a relatively large number of starting zip code where the trip eventually becomes cross-zip-code. This could also be an interesting feature for prediction."
   ]
  },
  {
   "cell_type": "code",
   "execution_count": null,
   "id": "a1786ed0",
   "metadata": {},
   "outputs": [],
   "source": []
  }
 ],
 "metadata": {
  "kernelspec": {
   "display_name": "Python 3",
   "language": "python",
   "name": "python3"
  },
  "language_info": {
   "codemirror_mode": {
    "name": "ipython",
    "version": 3
   },
   "file_extension": ".py",
   "mimetype": "text/x-python",
   "name": "python",
   "nbconvert_exporter": "python",
   "pygments_lexer": "ipython3",
   "version": "3.7.7"
  }
 },
 "nbformat": 4,
 "nbformat_minor": 5
}
